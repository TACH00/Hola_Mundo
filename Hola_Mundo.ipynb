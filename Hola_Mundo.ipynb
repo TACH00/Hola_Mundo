{
  "nbformat": 4,
  "nbformat_minor": 0,
  "metadata": {
    "colab": {
      "provenance": [],
      "collapsed_sections": [],
      "authorship_tag": "ABX9TyMCuDzif1bCmtjgVozDUFiT",
      "include_colab_link": true
    },
    "kernelspec": {
      "name": "python3",
      "display_name": "Python 3"
    },
    "language_info": {
      "name": "python"
    }
  },
  "cells": [
    {
      "cell_type": "markdown",
      "metadata": {
        "id": "view-in-github",
        "colab_type": "text"
      },
      "source": [
        "<a href=\"https://colab.research.google.com/github/TACH00/Hola_Mundo/blob/main/Hola_Mundo.ipynb\" target=\"_parent\"><img src=\"https://colab.research.google.com/assets/colab-badge.svg\" alt=\"Open In Colab\"/></a>"
      ]
    },
    {
      "cell_type": "code",
      "execution_count": 9,
      "metadata": {
        "id": "P77Fv1tCgWnR"
      },
      "outputs": [],
      "source": [
        "#Importamos librerias requeridas\n",
        "import pandas as pd\n",
        "import numpy as np\n",
        "import matplotlib.pyplot as plt\n",
        "import seaborn as sns"
      ]
    },
    {
      "cell_type": "code",
      "source": [
        "#Cargar archivo csv desde seaborn\n",
        "df=sns.load_dataset(name='car_crashes')"
      ],
      "metadata": {
        "id": "baxZmCOuinXM"
      },
      "execution_count": 10,
      "outputs": []
    },
    {
      "cell_type": "code",
      "source": [
        "#Imprimimos las primeras filas o registros del Dataframe\n",
        "df.head(5)"
      ],
      "metadata": {
        "id": "6eNjQupPjEvw"
      },
      "execution_count": null,
      "outputs": []
    },
    {
      "cell_type": "code",
      "source": [
        "#Imprimimos las ultimas filas o registros del Dataframe\n",
        "df.tail(5)"
      ],
      "metadata": {
        "id": "tfzgQ14-kKzY"
      },
      "execution_count": null,
      "outputs": []
    },
    {
      "cell_type": "code",
      "source": [
        "df.info"
      ],
      "metadata": {
        "id": "dVI4vNUMkfUj"
      },
      "execution_count": null,
      "outputs": []
    },
    {
      "cell_type": "code",
      "source": [
        "#Cargar archivo csv desde equipo\n",
        "from google.colab import files\n",
        "files.upload()"
      ],
      "metadata": {
        "id": "OwlvZLLFswRv"
      },
      "execution_count": null,
      "outputs": []
    },
    {
      "cell_type": "code",
      "source": [
        "#Convertir en Dataframe\n",
        "df=pd.read_csv('car_crashes.csv')\n",
        "df"
      ],
      "metadata": {
        "id": "1cisi_mFtW2X"
      },
      "execution_count": null,
      "outputs": []
    }
  ]
}